{
  "nbformat": 4,
  "nbformat_minor": 0,
  "metadata": {
    "colab": {
      "provenance": [],
      "authorship_tag": "ABX9TyNNXnv69hki5h0R5R+l/g47",
      "include_colab_link": true
    },
    "kernelspec": {
      "name": "python3",
      "display_name": "Python 3"
    },
    "language_info": {
      "name": "python"
    }
  },
  "cells": [
    {
      "cell_type": "markdown",
      "metadata": {
        "id": "view-in-github",
        "colab_type": "text"
      },
      "source": [
        "<a href=\"https://colab.research.google.com/github/achih030/learning-portfolio/blob/main/app.ipynb\" target=\"_parent\"><img src=\"https://colab.research.google.com/assets/colab-badge.svg\" alt=\"Open In Colab\"/></a>"
      ]
    },
    {
      "cell_type": "code",
      "execution_count": null,
      "metadata": {
        "id": "faRaRYQIByG_"
      },
      "outputs": [],
      "source": [
        "!pip install pillow pytesseract tk\n",
        "!pip install openai==0.28\n",
        "!pip install google-cloud-vision"
      ]
    },
    {
      "cell_type": "code",
      "source": [
        "import os\n",
        "import io\n",
        "from google.colab import files\n",
        "from google.cloud import vision\n",
        "\n",
        "# 設置OpenAI API密鑰\n",
        "openai.api_key = 'open_api_key'\n",
        "\n",
        "# 設置Google Cloud Vision API服務賬戶密鑰文件路徑\n",
        "os.environ[\"GOOGLE_APPLICATION_CREDENTIALS\"] = \"google_cloud.json\"\n",
        "\n",
        "ALLOWED_EXTENSIONS = {'png', 'jpg', 'jpeg'}\n",
        "\n",
        "def allowed_file(filename):\n",
        "    return '.' in filename and filename.rsplit('.', 1)[1].lower() in ALLOWED_EXTENSIONS\n",
        "\n",
        "def extract_texts_from_files(file_paths):\n",
        "    extracted_texts = []\n",
        "    client = vision.ImageAnnotatorClient()\n",
        "\n",
        "    for file_path in file_paths:\n",
        "        with io.open(file_path, 'rb') as file:\n",
        "            content = file.read()\n",
        "\n",
        "        if file_path.endswith(('.png', '.jpg', '.jpeg')):\n",
        "            image = vision.Image(content=content)\n",
        "            response = client.text_detection(image=image)\n",
        "            texts = response.text_annotations\n",
        "            extracted_texts.extend([text.description for text in texts])\n",
        "\n",
        "    return extracted_texts\n",
        "\n",
        "def summarize_texts(texts):\n",
        "    combined_text = \"\\n\\n\".join(texts)\n",
        "    response = openai.ChatCompletion.create(\n",
        "        model=\"gpt-3.5-turbo\",\n",
        "        messages=[\n",
        "            {\"role\": \"system\", \"content\": \"你是一個幫助生成台灣高中要做的學習歷程的助手。\"},\n",
        "            {\"role\": \"user\", \"content\": f\"根據以下內容生成一段自然大約500至1000個中文字的流暢的台灣高中的學習歷程與心得：\\n\\n{combined_text}\\n\"}\n",
        "        ],\n",
        "        temperature=1\n",
        "    )\n",
        "    summary = response['choices'][0]['message']['content'].strip()\n",
        "    return summary\n",
        "\n",
        "def delete_files(file_paths):\n",
        "    for file_path in file_paths:\n",
        "        os.remove(file_path)\n",
        "        print(f\"已刪除文件：{file_path}\")\n",
        "\n",
        "def upload_files():\n",
        "    print(\"請上傳要處理的獎狀圖片文件...(點擊CANCEL結束上傳)\")\n",
        "    file_paths = []\n",
        "    while True:\n",
        "        uploaded_file = files.upload()\n",
        "        if not uploaded_file:\n",
        "            break\n",
        "        for name, content in uploaded_file.items():\n",
        "            if allowed_file(name):\n",
        "                with open(name, 'wb') as file:\n",
        "                    file.write(content)\n",
        "                file_paths.append(name)\n",
        "            else:\n",
        "                print(f\"文件 {name} 的格式不符合要求，請重新上傳 PNG、JPG 或 JPEG 格式的文件。\")\n",
        "\n",
        "    return file_paths\n",
        "\n",
        "if __name__ == \"__main__\":\n",
        "    print(\"歡迎使用學習歷程總結工具！\")\n",
        "    file_paths = upload_files()\n",
        "    if not file_paths:\n",
        "        print(\"未上傳任何文件。\")\n",
        "    else:\n",
        "        print(f\"已上傳{len(file_paths)}個文件。\")\n",
        "        print(\"正在提取文本...\")\n",
        "        extracted_texts = extract_texts_from_files(file_paths)\n",
        "        print(\"正在總結學習歷程...\")\n",
        "        summary = summarize_texts(extracted_texts)\n",
        "        print(\"\\n學習歷程總結：\")\n",
        "        print(summary)\n",
        "        print(\"正在刪除已上傳的文件...\")\n",
        "        delete_files(file_paths)\n"
      ],
      "metadata": {
        "id": "k7tiRqA_CxFk"
      },
      "execution_count": null,
      "outputs": []
    }
  ]
}